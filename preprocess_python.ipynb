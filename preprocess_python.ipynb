{
 "cells": [
  {
   "cell_type": "code",
   "execution_count": 1,
   "metadata": {},
   "outputs": [
    {
     "data": {
      "text/plain": [
       "'\\nA notebook to show various steps of preprocessing text\\n'"
      ]
     },
     "execution_count": 1,
     "metadata": {},
     "output_type": "execute_result"
    }
   ],
   "source": [
    "'''\n",
    "A notebook to show various steps of preprocessing text\n",
    "'''"
   ]
  },
  {
   "cell_type": "code",
   "execution_count": 2,
   "metadata": {},
   "outputs": [],
   "source": [
    "# We will be using various review from file `avengers_infinity_war_reviews.json`"
   ]
  },
  {
   "cell_type": "code",
   "execution_count": 3,
   "metadata": {},
   "outputs": [],
   "source": [
    "# lets consider review 1 (id 1)\n",
    "review_1_text = '''Moments that touch the heart are <strong>few</strong> and <strong>far</strong> between in this almost-culmination of a decade of Marvel Comics movies. '''"
   ]
  },
  {
   "cell_type": "code",
   "execution_count": 4,
   "metadata": {},
   "outputs": [
    {
     "name": "stdout",
     "output_type": "stream",
     "text": [
      "moments that touch the heart are <strong>few</strong> and <strong>far</strong> between in this almost-culmination of a decade of marvel comics movies. \n"
     ]
    }
   ],
   "source": [
    "# lowercase the text\n",
    "review_1_text = review_1_text.lower()\n",
    "print review_1_text"
   ]
  },
  {
   "cell_type": "code",
   "execution_count": 5,
   "metadata": {},
   "outputs": [],
   "source": [
    "from HTMLParser import HTMLParser\n",
    "\n",
    "class MLStripper(HTMLParser):\n",
    "    def __init__(self):\n",
    "        self.reset()\n",
    "        self.fed = []\n",
    "\n",
    "    def handle_data(self, d):\n",
    "        self.fed.append(d)\n",
    "\n",
    "    def get_data(self):\n",
    "        return ' '.join(self.fed)\n",
    "\n",
    "\n",
    "def strip_tags(html):\n",
    "    s = MLStripper()\n",
    "    s.feed(html)\n",
    "    return s.get_data()\n"
   ]
  },
  {
   "cell_type": "code",
   "execution_count": 6,
   "metadata": {},
   "outputs": [
    {
     "name": "stdout",
     "output_type": "stream",
     "text": [
      "moments that touch the heart are  few  and  far  between in this almost-culmination of a decade of marvel comics movies. \n"
     ]
    }
   ],
   "source": [
    "# remove html tags from text\n",
    "review_1_text = strip_tags(review_1_text)\n",
    "print review_1_text"
   ]
  },
  {
   "cell_type": "code",
   "execution_count": 7,
   "metadata": {},
   "outputs": [],
   "source": [
    "# lets consider review 3\n",
    "review_3_text = '''?Avengers: Infinity War? takes you places that most superhero movies don?t ? and where you may not want to go.'''"
   ]
  },
  {
   "cell_type": "code",
   "execution_count": 8,
   "metadata": {},
   "outputs": [],
   "source": [
    "import re\n",
    "import string\n",
    "\n",
    "def remove_punctuation(text): \n",
    "    pattern = re.compile('[{}]'.format(re.escape(string.punctuation))) \n",
    "    filtered_tokens = filter(None, [pattern.sub('', token) for token in text.split(' ')]) \n",
    "    filtered_text = ' '.join(filtered_tokens) \n",
    "    return filtered_text"
   ]
  },
  {
   "cell_type": "code",
   "execution_count": 9,
   "metadata": {},
   "outputs": [
    {
     "name": "stdout",
     "output_type": "stream",
     "text": [
      "Avengers Infinity War takes you places that most superhero movies dont and where you may not want to go\n"
     ]
    }
   ],
   "source": [
    "review_3_text = remove_punctuation(review_3_text)\n",
    "print review_3_text"
   ]
  },
  {
   "cell_type": "code",
   "execution_count": 10,
   "metadata": {},
   "outputs": [],
   "source": [
    "# expanding abbreviations\n",
    "# - standard\n",
    "# - domain specific"
   ]
  },
  {
   "cell_type": "code",
   "execution_count": 11,
   "metadata": {},
   "outputs": [],
   "source": [
    "# lets consider review 2\n",
    "review_2_text = '''Avengers: Infinity War delivers an exciting culmination of the MCU, though it's overstuffed and suffers from certain typical Marvel movie problems.'''"
   ]
  },
  {
   "cell_type": "code",
   "execution_count": 12,
   "metadata": {},
   "outputs": [],
   "source": [
    "standard_abbreviation_map = {\n",
    "    \"aren't\": \"are not\",\n",
    "    \"can't\": \"cannot\",\n",
    "    \"doesn't\": \"does not\", \n",
    "    \"don't\": \"do not\",\n",
    "    \"they're\": \"they are\",\n",
    "    \"they've\": \"they have\",\n",
    "    \"it's\": \"it is\"\n",
    "}"
   ]
  },
  {
   "cell_type": "code",
   "execution_count": 13,
   "metadata": {},
   "outputs": [],
   "source": [
    "domain_specific_abbreviation_map = {\n",
    "    'MCU': 'Marvel Commics Universe'\n",
    "}"
   ]
  },
  {
   "cell_type": "code",
   "execution_count": 14,
   "metadata": {},
   "outputs": [],
   "source": [
    "def expand_abbreviations(text, abbreviation_map):\n",
    "    tokens = text.split(' ')\n",
    "    updated_tokens = []\n",
    "    for token in tokens:\n",
    "        if token in abbreviation_map.keys():\n",
    "            updated_tokens.append(abbreviation_map.get(token))\n",
    "        else:\n",
    "            updated_tokens.append(token)\n",
    "    return ' '.join(updated_tokens)"
   ]
  },
  {
   "cell_type": "code",
   "execution_count": 15,
   "metadata": {},
   "outputs": [
    {
     "name": "stdout",
     "output_type": "stream",
     "text": [
      "Avengers: Infinity War delivers an exciting culmination of the MCU, though it is overstuffed and suffers from certain typical Marvel movie problems.\n"
     ]
    }
   ],
   "source": [
    "# remove standard abbreviations from review 2\n",
    "review_2_text = expand_abbreviations(review_2_text, standard_abbreviation_map)\n",
    "print review_2_text"
   ]
  },
  {
   "cell_type": "code",
   "execution_count": 16,
   "metadata": {},
   "outputs": [
    {
     "name": "stdout",
     "output_type": "stream",
     "text": [
      "Avengers: Infinity War delivers an exciting culmination of the MCU, though it is overstuffed and suffers from certain typical Marvel movie problems.\n"
     ]
    }
   ],
   "source": [
    "# remove domain specific(here Marvel Movies specific review)\n",
    "review_2_text = expand_abbreviations(review_2_text, domain_specific_abbreviation_map)\n",
    "print review_2_text"
   ]
  },
  {
   "cell_type": "code",
   "execution_count": 17,
   "metadata": {},
   "outputs": [],
   "source": [
    "# expand numbers into their string version"
   ]
  },
  {
   "cell_type": "code",
   "execution_count": 18,
   "metadata": {},
   "outputs": [],
   "source": [
    "# lets consider review 4\n",
    "review_4_text = '''There were six singularities before the universe existed. When the universe was formed, the Cosmic Entities like Death and Eternity, turned those singularities into concentrated objects of power called Infinity Stones. There are 6 Infinity Stones or Gems in total: Space Stone, Reality Stone, Power Stone, Mind Stone, Time Stone, and finally Soul Stone '''"
   ]
  },
  {
   "cell_type": "code",
   "execution_count": 19,
   "metadata": {},
   "outputs": [],
   "source": [
    "number_map = {\n",
    "    '0': 'zero',\n",
    "    '1': 'one',\n",
    "    '2': 'two',\n",
    "    '3': 'three',\n",
    "    '4': 'four',\n",
    "    '5': 'five',\n",
    "    '6': 'six',\n",
    "    '7': 'seven',\n",
    "    '8': 'eight',\n",
    "    '9': 'nine'\n",
    "}"
   ]
  },
  {
   "cell_type": "code",
   "execution_count": 20,
   "metadata": {},
   "outputs": [
    {
     "name": "stdout",
     "output_type": "stream",
     "text": [
      "There were six singularities before the universe existed. When the universe was formed, the Cosmic Entities like Death and Eternity, turned those singularities into concentrated objects of power called Infinity Stones. There are six Infinity Stones or Gems in total: Space Stone, Reality Stone, Power Stone, Mind Stone, Time Stone, and finally Soul Stone \n"
     ]
    }
   ],
   "source": [
    "review_4_text = expand_abbreviations(review_4_text, number_map)\n",
    "print review_4_text"
   ]
  },
  {
   "cell_type": "code",
   "execution_count": 21,
   "metadata": {},
   "outputs": [],
   "source": [
    "# synonyms / alternate names"
   ]
  },
  {
   "cell_type": "code",
   "execution_count": 22,
   "metadata": {},
   "outputs": [],
   "source": [
    "# lets consider review 6\n",
    "review_6_text = '''Directed by the Russo brothers, the architects behind Cptain Amrica: Civil War and Cptain Amrica: Winter Soldier, Infinity War slyly betrays Cap presenting his and the Avengers’ worldviews as naive and privileged. Instead, it dares to ask what happens if saving the day means taking real, tangible losses — a concept so foreign that it comes in the form of an intergalactic purple titan named Thanos'''"
   ]
  },
  {
   "cell_type": "code",
   "execution_count": 23,
   "metadata": {},
   "outputs": [],
   "source": [
    "# our popular Captain America is sometimes called as \"Cap\"\n",
    "synonym_map = {\n",
    "    'Cap': 'Captain America'\n",
    "}"
   ]
  },
  {
   "cell_type": "code",
   "execution_count": 24,
   "metadata": {},
   "outputs": [
    {
     "name": "stdout",
     "output_type": "stream",
     "text": [
      "Directed by the Russo brothers, the architects behind Cptain Amrica: Civil War and Cptain Amrica: Winter Soldier, Infinity War slyly betrays Captain America presenting his and the Avengers’ worldviews as naive and privileged. Instead, it dares to ask what happens if saving the day means taking real, tangible losses — a concept so foreign that it comes in the form of an intergalactic purple titan named Thanos\n"
     ]
    }
   ],
   "source": [
    "review_6_text = expand_abbreviations(review_6_text, synonym_map)\n",
    "print review_6_text"
   ]
  },
  {
   "cell_type": "code",
   "execution_count": 25,
   "metadata": {},
   "outputs": [],
   "source": [
    "# correcting spelling "
   ]
  },
  {
   "cell_type": "code",
   "execution_count": 26,
   "metadata": {},
   "outputs": [],
   "source": [
    "# lets consider review 6 again\n",
    "review_6_text = '''Directed by the Russo brothers, the architects behind Cptain Amrica: Civil War and Cptain Amrica: Winter Soldier, Infinity War slyly betrays Cap presenting his and the Avengers’ worldviews as naive and privileged. Instead, it dares to ask what happens if saving the day means taking real, tangible losses — a concept so foreign that it comes in the form of an intergalactic purple titan named Thanos'''"
   ]
  },
  {
   "cell_type": "code",
   "execution_count": 27,
   "metadata": {},
   "outputs": [],
   "source": [
    "spelling_error_map = {\n",
    "    'Cptain': 'Captain',\n",
    "    'Amrica': 'America'\n",
    "}"
   ]
  },
  {
   "cell_type": "code",
   "execution_count": 28,
   "metadata": {},
   "outputs": [
    {
     "name": "stdout",
     "output_type": "stream",
     "text": [
      "Directed by the Russo brothers, the architects behind Captain Amrica: Civil War and Captain Amrica: Winter Soldier, Infinity War slyly betrays Cap presenting his and the Avengers’ worldviews as naive and privileged. Instead, it dares to ask what happens if saving the day means taking real, tangible losses — a concept so foreign that it comes in the form of an intergalactic purple titan named Thanos\n"
     ]
    }
   ],
   "source": [
    "review_6_text = expand_abbreviations(review_6_text, spelling_error_map)\n",
    "print review_6_text"
   ]
  },
  {
   "cell_type": "code",
   "execution_count": 71,
   "metadata": {},
   "outputs": [],
   "source": [
    "# removing stopwords\n",
    "# - standard\n",
    "# - domain specific"
   ]
  },
  {
   "cell_type": "code",
   "execution_count": 29,
   "metadata": {},
   "outputs": [],
   "source": [
    "# lets consider review 6\n",
    "review_5_text = '''I hate to once again compare the DCEU to Marvel (that's a lie, it's tons of fun), but Marvel takes something that DC has been desperately trying to do and does it 100 times better. The movie is often dark and depressing, but unlike the likes of BvS it is never pessimistic or hopeless. DC has been trying to deliver an edge by dulling their colors and trudging their characters through the muck from the get go, while Marvel realizes that loss and anger and fear are all the more powerful when there is hope and happiness and bravery to go alongside it.'''"
   ]
  },
  {
   "cell_type": "code",
   "execution_count": 30,
   "metadata": {},
   "outputs": [],
   "source": [
    "def remove_stopwords(text, stopwords):\n",
    "    tokens = text.split()\n",
    "    filtered_tokens = [token for token in tokens if token not in set(stopwords)]\n",
    "    return ' '.join(filtered_tokens)"
   ]
  },
  {
   "cell_type": "code",
   "execution_count": 31,
   "metadata": {},
   "outputs": [],
   "source": [
    "english_stopwords = [\n",
    "    \"a\", \"an\", \"and\", \"are\", \"as\", \"at\", \"be\", \"but\", \"by\", \"for\", \n",
    "    \"if\", \"in\", \"into\", \"is\", \"it\", \"no\", \"not\", \"of\", \"on\", \"or\", \n",
    "    \"such\", \"that\", \"the\", \"their\", \"then\", \"there\", \"these\", \"they\", \n",
    "    \"this\", \"to\", \"was\", \"will\", \"with\",\n",
    "]"
   ]
  },
  {
   "cell_type": "code",
   "execution_count": 32,
   "metadata": {},
   "outputs": [
    {
     "name": "stdout",
     "output_type": "stream",
     "text": [
      "I hate once again compare DCEU Marvel (that's lie, it's tons fun), Marvel takes something DC has been desperately trying do does 100 times better. The movie often dark depressing, unlike likes BvS never pessimistic hopeless. DC has been trying deliver edge dulling colors trudging characters through muck from get go, while Marvel realizes loss anger fear all more powerful when hope happiness bravery go alongside it.\n"
     ]
    }
   ],
   "source": [
    "review_5_text = remove_stopwords(review_5_text, english_stopwords)\n",
    "print review_5_text"
   ]
  },
  {
   "cell_type": "code",
   "execution_count": 33,
   "metadata": {},
   "outputs": [],
   "source": [
    "# domain specific stopwords\n",
    "# lets make sure that a review about marvel movie does not mentions anything about DC and its characters\n",
    "domain_specific_stopwords = [\n",
    "    'DC', 'Batman', 'Wonder Woman', 'DCEU'\n",
    "]"
   ]
  },
  {
   "cell_type": "code",
   "execution_count": 34,
   "metadata": {},
   "outputs": [
    {
     "name": "stdout",
     "output_type": "stream",
     "text": [
      "I hate once again compare Marvel (that's lie, it's tons fun), Marvel takes something has been desperately trying do does 100 times better. The movie often dark depressing, unlike likes BvS never pessimistic hopeless. has been trying deliver edge dulling colors trudging characters through muck from get go, while Marvel realizes loss anger fear all more powerful when hope happiness bravery go alongside it.\n"
     ]
    }
   ],
   "source": [
    "review_5_text = remove_stopwords(review_5_text, domain_specific_stopwords)\n",
    "print review_5_text"
   ]
  },
  {
   "cell_type": "code",
   "execution_count": 35,
   "metadata": {},
   "outputs": [],
   "source": [
    "# stemming\n",
    "# lets consider review 4\n",
    "review_4_text = '''There were six singularities before the universe existed. When the universe was formed, the Cosmic Entities like Death and Eternity, turned those singularities into concentrated objects of power called Infinity Stones. There are 6 Infinity Stones or Gems in total: Space Stone, Reality Stone, Power Stone, Mind Stone, Time Stone, and finally Soul Stone'''"
   ]
  },
  {
   "cell_type": "code",
   "execution_count": 36,
   "metadata": {},
   "outputs": [],
   "source": [
    "from nltk.stem.porter import PorterStemmer\n",
    "stemmer = PorterStemmer()\n",
    "def find_stem_sentence(s):\n",
    "    return ' '.join([stemmer.stem(token) for token in s.split(' ')])"
   ]
  },
  {
   "cell_type": "code",
   "execution_count": 37,
   "metadata": {},
   "outputs": [
    {
     "name": "stdout",
     "output_type": "stream",
     "text": [
      "there were six singular befor the univers existed. when the univers wa formed, the cosmic entiti like death and eternity, turn those singular into concentr object of power call infin stones. there are 6 infin stone or gem in total: space stone, realiti stone, power stone, mind stone, time stone, and final soul stone\n"
     ]
    }
   ],
   "source": [
    "print find_stem_sentence(review_4_text)"
   ]
  },
  {
   "cell_type": "code",
   "execution_count": 38,
   "metadata": {},
   "outputs": [],
   "source": [
    "# notice how some tokens are reduced\n",
    "# singularities ==> singular\n",
    "# also notice how some token dont mean anything\n",
    "# universe ==> univers"
   ]
  },
  {
   "cell_type": "code",
   "execution_count": 39,
   "metadata": {},
   "outputs": [],
   "source": [
    "# lemmatization: stemming but it preserves meaning of the token, and make sures that the reduced form is a meaningful word\n",
    "from nltk.stem import WordNetLemmatizer\n",
    "lemmatizer = WordNetLemmatizer()\n",
    "def find_lemma_sentence(s):\n",
    "    return ' '.join([lemmatizer.lemmatize(token) for token in s.split(' ')])"
   ]
  },
  {
   "cell_type": "code",
   "execution_count": 40,
   "metadata": {},
   "outputs": [
    {
     "name": "stdout",
     "output_type": "stream",
     "text": [
      "There were six singularity before the universe existed. When the universe wa formed, the Cosmic Entities like Death and Eternity, turned those singularity into concentrated object of power called Infinity Stones. There are 6 Infinity Stones or Gems in total: Space Stone, Reality Stone, Power Stone, Mind Stone, Time Stone, and finally Soul Stone\n"
     ]
    }
   ],
   "source": [
    "print find_lemma_sentence(review_4_text)"
   ]
  },
  {
   "cell_type": "code",
   "execution_count": 41,
   "metadata": {},
   "outputs": [],
   "source": [
    "# notice how universe(earlier univers in stemming) exists as universe here"
   ]
  },
  {
   "cell_type": "code",
   "execution_count": null,
   "metadata": {},
   "outputs": [],
   "source": []
  }
 ],
 "metadata": {
  "kernelspec": {
   "display_name": "Python 2",
   "language": "python",
   "name": "python2"
  },
  "language_info": {
   "codemirror_mode": {
    "name": "ipython",
    "version": 2
   },
   "file_extension": ".py",
   "mimetype": "text/x-python",
   "name": "python",
   "nbconvert_exporter": "python",
   "pygments_lexer": "ipython2",
   "version": "2.7.15"
  }
 },
 "nbformat": 4,
 "nbformat_minor": 2
}
