{
 "cells": [
  {
   "cell_type": "code",
   "execution_count": 1,
   "metadata": {},
   "outputs": [
    {
     "data": {
      "text/plain": [
       "'\\nA notebook to run and show demo of various queries\\n'"
      ]
     },
     "execution_count": 1,
     "metadata": {},
     "output_type": "execute_result"
    }
   ],
   "source": [
    "'''\n",
    "A notebook to run and show demo of various queries\n",
    "'''"
   ]
  },
  {
   "cell_type": "code",
   "execution_count": 2,
   "metadata": {},
   "outputs": [],
   "source": [
    "import json\n",
    "\n",
    "from os.path import join\n",
    "\n",
    "from elasticsearch import Elasticsearch\n",
    "from elasticsearch.helpers import bulk"
   ]
  },
  {
   "cell_type": "code",
   "execution_count": 3,
   "metadata": {},
   "outputs": [],
   "source": [
    "ES_HOST = 'http://localhost'\n",
    "ES_PORT = 9202\n",
    "ES_HOST_STRING = '{}:{}'.format(ES_HOST, ES_PORT)\n",
    "\n",
    "INDEX_NAME = 'movies'\n",
    "TYPE_NAME = 'marvel'"
   ]
  },
  {
   "cell_type": "code",
   "execution_count": 4,
   "metadata": {},
   "outputs": [],
   "source": [
    "mapping = '''{\n",
    "  \"mappings\": {\n",
    "    \"marvel\": {\n",
    "      \"properties\": {\n",
    "        \"title\": {\n",
    "          \"type\": \"text\"\n",
    "        },\n",
    "        \"year\": {\n",
    "          \"type\": \"long\"\n",
    "        },\n",
    "        \"directors\": {\n",
    "          \"type\": \"text\"\n",
    "        },\n",
    "        \"imdb_rating\": {\n",
    "          \"type\": \"float\"\n",
    "        },\n",
    "        \"summary\": {\n",
    "          \"type\": \"text\"\n",
    "        },\n",
    "        \"duration\": {\n",
    "          \"type\": \"integer\"\n",
    "        }\n",
    "      }\n",
    "    }\n",
    "  }\n",
    "}'''"
   ]
  },
  {
   "cell_type": "code",
   "execution_count": 5,
   "metadata": {},
   "outputs": [],
   "source": [
    "es = Elasticsearch([ES_HOST_STRING])"
   ]
  },
  {
   "cell_type": "code",
   "execution_count": 6,
   "metadata": {},
   "outputs": [
    {
     "data": {
      "text/plain": [
       "{'acknowledged': True, 'shards_acknowledged': True, 'index': 'movies'}"
      ]
     },
     "execution_count": 6,
     "metadata": {},
     "output_type": "execute_result"
    }
   ],
   "source": [
    "es.indices.create(index=INDEX_NAME, ignore=400, body=mapping)"
   ]
  },
  {
   "cell_type": "code",
   "execution_count": 7,
   "metadata": {},
   "outputs": [],
   "source": [
    "data_file = join('data', 'marvel_movies_released.json')"
   ]
  },
  {
   "cell_type": "code",
   "execution_count": 8,
   "metadata": {},
   "outputs": [],
   "source": [
    "with open(data_file) as infile:\n",
    "    data = json.load(infile)"
   ]
  },
  {
   "cell_type": "code",
   "execution_count": 9,
   "metadata": {},
   "outputs": [],
   "source": [
    "def make_documents(doc, doc_id):\n",
    "    es_doc = {\n",
    "        '_op_type': 'index',\n",
    "        '_index': INDEX_NAME,\n",
    "        '_type': TYPE_NAME,\n",
    "        '_id': doc_id,\n",
    "        '_source': doc\n",
    "    }\n",
    "    return es_doc"
   ]
  },
  {
   "cell_type": "code",
   "execution_count": 10,
   "metadata": {},
   "outputs": [
    {
     "data": {
      "text/plain": [
       "(19, [])"
      ]
     },
     "execution_count": 10,
     "metadata": {},
     "output_type": "execute_result"
    }
   ],
   "source": [
    "bulk(es, [make_documents(doc, idx) for idx, doc in enumerate(data)], index=INDEX_NAME, doc_type=TYPE_NAME)"
   ]
  },
  {
   "cell_type": "code",
   "execution_count": 11,
   "metadata": {},
   "outputs": [],
   "source": [
    "# search for ironman\n",
    "search_query = '''{\n",
    "  \"query\": {\n",
    "    \"match\": {\n",
    "      \"title\": \"iron man\"\n",
    "    }\n",
    "  }\n",
    "}'''"
   ]
  },
  {
   "cell_type": "code",
   "execution_count": 12,
   "metadata": {},
   "outputs": [],
   "source": [
    "response = es.search(index=INDEX_NAME, doc_type=TYPE_NAME, body=search_query, _source_include=['title'])"
   ]
  },
  {
   "cell_type": "code",
   "execution_count": 14,
   "metadata": {},
   "outputs": [],
   "source": [
    "def pretty_print_es_response(es_response):\n",
    "    pretty_response = []\n",
    "    hits = es_response.get('hits', []).get('hits', [])\n",
    "    for hit in hits:\n",
    "        source = hit.get('_source')\n",
    "        source['id'] = hit.get('_id')\n",
    "        pretty_response.append(source)\n",
    "    return pretty_response"
   ]
  },
  {
   "cell_type": "code",
   "execution_count": 15,
   "metadata": {},
   "outputs": [
    {
     "data": {
      "text/plain": [
       "[{'title': 'Iron Man 3', 'id': '12'},\n",
       " {'title': 'Iron Man', 'id': '18'},\n",
       " {'title': 'Iron Man 2', 'id': '16'},\n",
       " {'title': 'Spider-Man: Homecoming', 'id': '2'},\n",
       " {'title': 'Ant-Man', 'id': '7'}]"
      ]
     },
     "execution_count": 15,
     "metadata": {},
     "output_type": "execute_result"
    }
   ],
   "source": [
    "pretty_print_es_response(response)"
   ]
  },
  {
   "cell_type": "code",
   "execution_count": 16,
   "metadata": {},
   "outputs": [],
   "source": [
    "# search for ironman on title and summary field\n",
    "search_query = '''{\n",
    "  \"query\": {\n",
    "    \"multi_match\": {\n",
    "      \"query\": \"iron man\",\n",
    "      \"fields\": [\"title\", \"summary\"]\n",
    "    }\n",
    "  }\n",
    "}'''"
   ]
  },
  {
   "cell_type": "code",
   "execution_count": 19,
   "metadata": {},
   "outputs": [],
   "source": [
    "response = es.search(index=INDEX_NAME, doc_type=TYPE_NAME, body=search_query, _source_include=['title', 'summary'])"
   ]
  },
  {
   "cell_type": "code",
   "execution_count": 20,
   "metadata": {},
   "outputs": [
    {
     "data": {
      "text/plain": [
       "[{'summary': \"With the world now aware of his identity as Iron Man, Tony Stark must contend with both his declining health and a vengeful mad man with ties to his father's legacy.\",\n",
       "  'title': 'Iron Man 2',\n",
       "  'id': '16'},\n",
       " {'summary': \"When Tony Stark's world is torn apart by a formidable terrorist called the Mandarin, he starts an odyssey of rebuilding and retribution.\",\n",
       "  'title': 'Iron Man 3',\n",
       "  'id': '12'},\n",
       " {'summary': \"Political involvement in the Avengers' activities causes a rift between Captain America and Iron Man.\",\n",
       "  'title': 'Captain America: Civil War',\n",
       "  'id': '6'},\n",
       " {'summary': 'After being held captive in an Afghan cave, billionaire engineer Tony Stark creates a unique weaponized suit of armor to fight evil.',\n",
       "  'title': 'Iron Man',\n",
       "  'id': '18'},\n",
       " {'summary': 'Peter Parker balances his life as an ordinary high school student in Queens with his superhero alter-ego Spider-Man, and finds himself on the trail of a new menace prowling the skies of New York City.',\n",
       "  'title': 'Spider-Man: Homecoming',\n",
       "  'id': '2'},\n",
       " {'summary': 'Armed with a super-suit with the astonishing ability to shrink in scale but increase in strength, cat burglar Scott Lang must embrace his inner hero and help his mentor, Dr. Hank Pym, plan and pull off a heist that will save the world.',\n",
       "  'title': 'Ant-Man',\n",
       "  'id': '7'}]"
      ]
     },
     "execution_count": 20,
     "metadata": {},
     "output_type": "execute_result"
    }
   ],
   "source": [
    "pretty_print_es_response(response)"
   ]
  },
  {
   "cell_type": "code",
   "execution_count": 21,
   "metadata": {},
   "outputs": [],
   "source": [
    "# Notice how movie with id `6` appears though it does not contain Iron man in the title."
   ]
  },
  {
   "cell_type": "code",
   "execution_count": 22,
   "metadata": {},
   "outputs": [],
   "source": [
    "# lets search for iron man again but this with a boost on summary field\n",
    "search_query = '''{\n",
    "  \"query\": {\n",
    "    \"multi_match\": {\n",
    "      \"query\": \"iron man\",\n",
    "      \"fields\": [\"title\", \"summary^2\"]\n",
    "    }\n",
    "  },\n",
    "  \"_source\": [\"id\", \"title\", \"summary\"]\n",
    "}'''"
   ]
  },
  {
   "cell_type": "code",
   "execution_count": 23,
   "metadata": {},
   "outputs": [
    {
     "data": {
      "text/plain": [
       "[{'summary': \"With the world now aware of his identity as Iron Man, Tony Stark must contend with both his declining health and a vengeful mad man with ties to his father's legacy.\",\n",
       "  'title': 'Iron Man 2',\n",
       "  'id': '16'},\n",
       " {'summary': \"Political involvement in the Avengers' activities causes a rift between Captain America and Iron Man.\",\n",
       "  'title': 'Captain America: Civil War',\n",
       "  'id': '6'},\n",
       " {'summary': \"When Tony Stark's world is torn apart by a formidable terrorist called the Mandarin, he starts an odyssey of rebuilding and retribution.\",\n",
       "  'title': 'Iron Man 3',\n",
       "  'id': '12'},\n",
       " {'summary': 'After being held captive in an Afghan cave, billionaire engineer Tony Stark creates a unique weaponized suit of armor to fight evil.',\n",
       "  'title': 'Iron Man',\n",
       "  'id': '18'},\n",
       " {'summary': 'Peter Parker balances his life as an ordinary high school student in Queens with his superhero alter-ego Spider-Man, and finds himself on the trail of a new menace prowling the skies of New York City.',\n",
       "  'title': 'Spider-Man: Homecoming',\n",
       "  'id': '2'},\n",
       " {'summary': 'Armed with a super-suit with the astonishing ability to shrink in scale but increase in strength, cat burglar Scott Lang must embrace his inner hero and help his mentor, Dr. Hank Pym, plan and pull off a heist that will save the world.',\n",
       "  'title': 'Ant-Man',\n",
       "  'id': '7'}]"
      ]
     },
     "execution_count": 23,
     "metadata": {},
     "output_type": "execute_result"
    }
   ],
   "source": [
    "response = es.search(index=INDEX_NAME, doc_type=TYPE_NAME, body=search_query, _source_include=['title', 'summary'])\n",
    "pretty_print_es_response(response)"
   ]
  },
  {
   "cell_type": "code",
   "execution_count": 24,
   "metadata": {},
   "outputs": [],
   "source": [
    "# notice how the ranking changes of doc with id `6` and id `12` when a boost factor is given to `summary` field"
   ]
  },
  {
   "cell_type": "code",
   "execution_count": 25,
   "metadata": {},
   "outputs": [],
   "source": [
    "# search for captan amrica\n",
    "search_query = '''{\n",
    "  \"query\": {\n",
    "    \"match\": {\n",
    "      \"title\": {\n",
    "        \"query\": \"captan amrica\",\n",
    "        \"fuzziness\": 2\n",
    "      }\n",
    "    }\n",
    "  }\n",
    "}'''"
   ]
  },
  {
   "cell_type": "code",
   "execution_count": 26,
   "metadata": {},
   "outputs": [
    {
     "data": {
      "text/plain": [
       "[{'summary': 'As Steve Rogers struggles to embrace his role in the modern world, he teams up with a fellow Avenger and S.H.I.E.L.D agent, Black Widow, to battle a new threat from history: an assassin known as the Winter Soldier.',\n",
       "  'title': 'Captain America: The Winter Soldier',\n",
       "  'id': '10'},\n",
       " {'summary': \"Political involvement in the Avengers' activities causes a rift between Captain America and Iron Man.\",\n",
       "  'title': 'Captain America: Civil War',\n",
       "  'id': '6'},\n",
       " {'summary': \"Steve Rogers, a rejected military soldier transforms into Captain America after taking a dose of a 'Super-Soldier serum'. But being Captain America comes at a price as he attempts to take down a war monger and a terrorist organization.\",\n",
       "  'title': 'Captain America: The First Avenger',\n",
       "  'id': '14'}]"
      ]
     },
     "execution_count": 26,
     "metadata": {},
     "output_type": "execute_result"
    }
   ],
   "source": [
    "response = es.search(index=INDEX_NAME, doc_type=TYPE_NAME, body=search_query, _source_include=['title', 'summary'])\n",
    "pretty_print_es_response(response)"
   ]
  },
  {
   "cell_type": "code",
   "execution_count": 28,
   "metadata": {},
   "outputs": [],
   "source": [
    "# notice how fuzzy value of 2 takes care of captan(captain) and amrica(america)"
   ]
  },
  {
   "cell_type": "code",
   "execution_count": 29,
   "metadata": {},
   "outputs": [],
   "source": [
    "# search for iron man as a phrase\n",
    "search_query = '''{\n",
    "  \"query\": {\n",
    "    \"match_phrase\": {\n",
    "      \"title\": \"iron man\"\n",
    "    }\n",
    "  }\n",
    "}'''"
   ]
  },
  {
   "cell_type": "code",
   "execution_count": 30,
   "metadata": {},
   "outputs": [
    {
     "data": {
      "text/plain": [
       "[{'summary': \"When Tony Stark's world is torn apart by a formidable terrorist called the Mandarin, he starts an odyssey of rebuilding and retribution.\",\n",
       "  'title': 'Iron Man 3',\n",
       "  'id': '12'},\n",
       " {'summary': 'After being held captive in an Afghan cave, billionaire engineer Tony Stark creates a unique weaponized suit of armor to fight evil.',\n",
       "  'title': 'Iron Man',\n",
       "  'id': '18'},\n",
       " {'summary': \"With the world now aware of his identity as Iron Man, Tony Stark must contend with both his declining health and a vengeful mad man with ties to his father's legacy.\",\n",
       "  'title': 'Iron Man 2',\n",
       "  'id': '16'}]"
      ]
     },
     "execution_count": 30,
     "metadata": {},
     "output_type": "execute_result"
    }
   ],
   "source": [
    "response = es.search(index=INDEX_NAME, doc_type=TYPE_NAME, body=search_query, _source_include=['title', 'summary'])\n",
    "pretty_print_es_response(response)"
   ]
  },
  {
   "cell_type": "code",
   "execution_count": 31,
   "metadata": {},
   "outputs": [],
   "source": [
    "# notice how only three movies appear, in comparison to 5 when iron man was searched as a match query"
   ]
  },
  {
   "cell_type": "code",
   "execution_count": 32,
   "metadata": {},
   "outputs": [],
   "source": [
    "# search for movies of a particular year\n",
    "search_query = '''{\n",
    "  \"query\": {\n",
    "    \"bool\": {\n",
    "      \"filter\": {\n",
    "        \"term\": {\n",
    "          \"year\": 2018\n",
    "        }\n",
    "      }\n",
    "    }\n",
    "  }\n",
    "}'''"
   ]
  },
  {
   "cell_type": "code",
   "execution_count": 34,
   "metadata": {},
   "outputs": [
    {
     "data": {
      "text/plain": [
       "[{'summary': \"T'Challa, the King of Wakanda, rises to the throne in the isolated, technologically advanced African nation, but his claim is challenged by a vengeful outsider who was a childhood victim of T'Challa's father's mistake.\",\n",
       "  'year': '2018',\n",
       "  'title': 'Black Panther',\n",
       "  'id': '0'},\n",
       " {'summary': 'The Avengers and their allies must be willing to sacrifice all in an attempt to defeat the powerful Thanos before his blitz of devastation and ruin puts an end to the universe.',\n",
       "  'year': '2018',\n",
       "  'title': 'Avengers: Infinity War',\n",
       "  'id': '1'}]"
      ]
     },
     "execution_count": 34,
     "metadata": {},
     "output_type": "execute_result"
    }
   ],
   "source": [
    "response = es.search(index=INDEX_NAME, doc_type=TYPE_NAME, body=search_query, _source_include=['title', 'summary', 'year'])\n",
    "pretty_print_es_response(response)"
   ]
  },
  {
   "cell_type": "code",
   "execution_count": 35,
   "metadata": {},
   "outputs": [],
   "source": [
    "# lets search for movies within a particular time period\n",
    "search_query = '''{\n",
    "  \"query\": {\n",
    "    \"bool\": {\n",
    "      \"filter\": {\n",
    "        \"range\": {\n",
    "          \"year\": {\n",
    "            \"gte\": 2015,\n",
    "            \"lte\": 2016\n",
    "          }\n",
    "        }\n",
    "      }\n",
    "    }\n",
    "  }\n",
    "}'''"
   ]
  },
  {
   "cell_type": "code",
   "execution_count": 36,
   "metadata": {},
   "outputs": [
    {
     "data": {
      "text/plain": [
       "[{'summary': 'While on a journey of physical and spiritual healing, a brilliant neurosurgeon is drawn into the world of the mystic arts.',\n",
       "  'year': '2016',\n",
       "  'title': 'Doctor Strange',\n",
       "  'id': '5'},\n",
       " {'summary': \"When Tony Stark and Bruce Banner try to jump-start a dormant peacekeeping program called Ultron, things go horribly wrong and it's up to Earth's mightiest heroes to stop the villainous Ultron from enacting his terrible plan.\",\n",
       "  'year': '2015',\n",
       "  'title': 'Avengers: Age of Ultron',\n",
       "  'id': '8'},\n",
       " {'summary': \"Political involvement in the Avengers' activities causes a rift between Captain America and Iron Man.\",\n",
       "  'year': '2016',\n",
       "  'title': 'Captain America: Civil War',\n",
       "  'id': '6'},\n",
       " {'summary': 'Armed with a super-suit with the astonishing ability to shrink in scale but increase in strength, cat burglar Scott Lang must embrace his inner hero and help his mentor, Dr. Hank Pym, plan and pull off a heist that will save the world.',\n",
       "  'year': '2015',\n",
       "  'title': 'Ant-Man',\n",
       "  'id': '7'}]"
      ]
     },
     "execution_count": 36,
     "metadata": {},
     "output_type": "execute_result"
    }
   ],
   "source": [
    "response = es.search(index=INDEX_NAME, doc_type=TYPE_NAME, body=search_query, _source_include=['title', 'summary', 'year'])\n",
    "pretty_print_es_response(response)"
   ]
  },
  {
   "cell_type": "code",
   "execution_count": null,
   "metadata": {},
   "outputs": [],
   "source": []
  }
 ],
 "metadata": {
  "kernelspec": {
   "display_name": "Python 2",
   "language": "python",
   "name": "python2"
  },
  "language_info": {
   "codemirror_mode": {
    "name": "ipython",
    "version": 3
   },
   "file_extension": ".py",
   "mimetype": "text/x-python",
   "name": "python",
   "nbconvert_exporter": "python",
   "pygments_lexer": "ipython3",
   "version": "3.6.5"
  }
 },
 "nbformat": 4,
 "nbformat_minor": 2
}
