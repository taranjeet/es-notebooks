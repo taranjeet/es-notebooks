{
 "cells": [
  {
   "cell_type": "code",
   "execution_count": 1,
   "metadata": {},
   "outputs": [
    {
     "data": {
      "text/plain": [
       "'\\nA notebook to run and show demo of various queries\\n'"
      ]
     },
     "execution_count": 1,
     "metadata": {},
     "output_type": "execute_result"
    }
   ],
   "source": [
    "'''\n",
    "A notebook to run and show demo of various queries\n",
    "'''"
   ]
  },
  {
   "cell_type": "code",
   "execution_count": 2,
   "metadata": {},
   "outputs": [],
   "source": [
    "import json\n",
    "\n",
    "from os.path import join\n",
    "\n",
    "from elasticsearch import Elasticsearch\n",
    "from elasticsearch.helpers import bulk"
   ]
  },
  {
   "cell_type": "code",
   "execution_count": 3,
   "metadata": {},
   "outputs": [],
   "source": [
    "ES_HOST = 'http://localhost'\n",
    "ES_PORT = 9202\n",
    "ES_HOST_STRING = '{}:{}'.format(ES_HOST, ES_PORT)\n",
    "\n",
    "INDEX_NAME = 'movies'\n",
    "TYPE_NAME = 'marvel'"
   ]
  },
  {
   "cell_type": "code",
   "execution_count": 4,
   "metadata": {},
   "outputs": [],
   "source": [
    "mapping = '''{\n",
    "  \"mappings\": {\n",
    "    \"marvel\": {\n",
    "      \"properties\": {\n",
    "        \"title\": {\n",
    "          \"type\": \"text\"\n",
    "        },\n",
    "        \"year\": {\n",
    "          \"type\": \"long\"\n",
    "        },\n",
    "        \"directors\": {\n",
    "          \"type\": \"text\"\n",
    "        },\n",
    "        \"imdb_rating\": {\n",
    "          \"type\": \"float\"\n",
    "        },\n",
    "        \"summary\": {\n",
    "          \"type\": \"text\"\n",
    "        },\n",
    "        \"duration\": {\n",
    "          \"type\": \"integer\"\n",
    "        }\n",
    "      }\n",
    "    }\n",
    "  }\n",
    "}'''"
   ]
  },
  {
   "cell_type": "code",
   "execution_count": 5,
   "metadata": {},
   "outputs": [],
   "source": [
    "es = Elasticsearch([ES_HOST_STRING])"
   ]
  },
  {
   "cell_type": "code",
   "execution_count": 6,
   "metadata": {},
   "outputs": [
    {
     "data": {
      "text/plain": [
       "{u'acknowledged': True, u'index': u'movies', u'shards_acknowledged': True}"
      ]
     },
     "execution_count": 6,
     "metadata": {},
     "output_type": "execute_result"
    }
   ],
   "source": [
    "es.indices.create(index=INDEX_NAME, ignore=400, body=mapping)"
   ]
  },
  {
   "cell_type": "code",
   "execution_count": 7,
   "metadata": {},
   "outputs": [],
   "source": [
    "data_file = join('data', 'marvel_movies_released.json')"
   ]
  },
  {
   "cell_type": "code",
   "execution_count": 8,
   "metadata": {},
   "outputs": [],
   "source": [
    "with open(data_file) as infile:\n",
    "    data = json.load(infile)"
   ]
  },
  {
   "cell_type": "code",
   "execution_count": 9,
   "metadata": {},
   "outputs": [],
   "source": [
    "def make_documents(doc, doc_id):\n",
    "    es_doc = {\n",
    "        '_op_type': 'index',\n",
    "        '_index': INDEX_NAME,\n",
    "        '_type': TYPE_NAME,\n",
    "        '_id': doc_id,\n",
    "        '_source': doc\n",
    "    }\n",
    "    return es_doc"
   ]
  },
  {
   "cell_type": "code",
   "execution_count": 10,
   "metadata": {},
   "outputs": [
    {
     "data": {
      "text/plain": [
       "(19, [])"
      ]
     },
     "execution_count": 10,
     "metadata": {},
     "output_type": "execute_result"
    }
   ],
   "source": [
    "bulk(es, [make_documents(doc, idx) for idx, doc in enumerate(data)], index=INDEX_NAME, doc_type=TYPE_NAME)"
   ]
  },
  {
   "cell_type": "code",
   "execution_count": 11,
   "metadata": {},
   "outputs": [],
   "source": [
    "# search for ironman\n",
    "search_query = '''{\n",
    "  \"query\": {\n",
    "    \"match\": {\n",
    "      \"title\": \"iron man\"\n",
    "    }\n",
    "  }\n",
    "}'''"
   ]
  },
  {
   "cell_type": "code",
   "execution_count": 12,
   "metadata": {},
   "outputs": [],
   "source": [
    "response = es.search(index=INDEX_NAME, doc_type=TYPE_NAME, body=search_query, _source_include=['title'])"
   ]
  },
  {
   "cell_type": "code",
   "execution_count": 13,
   "metadata": {},
   "outputs": [],
   "source": [
    "def pretty_print_es_response(es_response, return_score=False):\n",
    "    pretty_response = []\n",
    "    hits = es_response.get('hits', []).get('hits', [])\n",
    "    for hit in hits:\n",
    "        source = hit.get('_source')\n",
    "        source['id'] = hit.get('_id')\n",
    "        if return_score:\n",
    "            source['score'] = hit.get('_score')\n",
    "        pretty_response.append(source)\n",
    "    return pretty_response"
   ]
  },
  {
   "cell_type": "code",
   "execution_count": 14,
   "metadata": {},
   "outputs": [
    {
     "data": {
      "text/plain": [
       "[{'id': u'12', u'title': u'Iron Man 3'},\n",
       " {'id': u'18', u'title': u'Iron Man'},\n",
       " {'id': u'16', u'title': u'Iron Man 2'},\n",
       " {'id': u'2', u'title': u'Spider-Man: Homecoming'},\n",
       " {'id': u'7', u'title': u'Ant-Man'}]"
      ]
     },
     "execution_count": 14,
     "metadata": {},
     "output_type": "execute_result"
    }
   ],
   "source": [
    "pretty_print_es_response(response)"
   ]
  },
  {
   "cell_type": "code",
   "execution_count": 15,
   "metadata": {},
   "outputs": [],
   "source": [
    "# search for ironman on title and summary field\n",
    "search_query = '''{\n",
    "  \"query\": {\n",
    "    \"multi_match\": {\n",
    "      \"query\": \"iron man\",\n",
    "      \"fields\": [\"title\", \"summary\"]\n",
    "    }\n",
    "  }\n",
    "}'''"
   ]
  },
  {
   "cell_type": "code",
   "execution_count": 16,
   "metadata": {},
   "outputs": [],
   "source": [
    "response = es.search(index=INDEX_NAME, doc_type=TYPE_NAME, body=search_query, _source_include=['title', 'summary'])"
   ]
  },
  {
   "cell_type": "code",
   "execution_count": 17,
   "metadata": {},
   "outputs": [
    {
     "data": {
      "text/plain": [
       "[{'id': u'16',\n",
       "  u'summary': u\"With the world now aware of his identity as Iron Man, Tony Stark must contend with both his declining health and a vengeful mad man with ties to his father's legacy.\",\n",
       "  u'title': u'Iron Man 2'},\n",
       " {'id': u'12',\n",
       "  u'summary': u\"When Tony Stark's world is torn apart by a formidable terrorist called the Mandarin, he starts an odyssey of rebuilding and retribution.\",\n",
       "  u'title': u'Iron Man 3'},\n",
       " {'id': u'6',\n",
       "  u'summary': u\"Political involvement in the Avengers' activities causes a rift between Captain America and Iron Man.\",\n",
       "  u'title': u'Captain America: Civil War'},\n",
       " {'id': u'18',\n",
       "  u'summary': u'After being held captive in an Afghan cave, billionaire engineer Tony Stark creates a unique weaponized suit of armor to fight evil.',\n",
       "  u'title': u'Iron Man'},\n",
       " {'id': u'2',\n",
       "  u'summary': u'Peter Parker balances his life as an ordinary high school student in Queens with his superhero alter-ego Spider-Man, and finds himself on the trail of a new menace prowling the skies of New York City.',\n",
       "  u'title': u'Spider-Man: Homecoming'},\n",
       " {'id': u'7',\n",
       "  u'summary': u'Armed with a super-suit with the astonishing ability to shrink in scale but increase in strength, cat burglar Scott Lang must embrace his inner hero and help his mentor, Dr. Hank Pym, plan and pull off a heist that will save the world.',\n",
       "  u'title': u'Ant-Man'}]"
      ]
     },
     "execution_count": 17,
     "metadata": {},
     "output_type": "execute_result"
    }
   ],
   "source": [
    "pretty_print_es_response(response)"
   ]
  },
  {
   "cell_type": "code",
   "execution_count": 18,
   "metadata": {},
   "outputs": [],
   "source": [
    "# Notice how movie with id `6` appears though it does not contain Iron man in the title."
   ]
  },
  {
   "cell_type": "code",
   "execution_count": 19,
   "metadata": {},
   "outputs": [],
   "source": [
    "# lets search for iron man again but this with a boost on summary field\n",
    "search_query = '''{\n",
    "  \"query\": {\n",
    "    \"multi_match\": {\n",
    "      \"query\": \"iron man\",\n",
    "      \"fields\": [\"title\", \"summary^2\"]\n",
    "    }\n",
    "  },\n",
    "  \"_source\": [\"id\", \"title\", \"summary\"]\n",
    "}'''"
   ]
  },
  {
   "cell_type": "code",
   "execution_count": 20,
   "metadata": {},
   "outputs": [
    {
     "data": {
      "text/plain": [
       "[{'id': u'16',\n",
       "  u'summary': u\"With the world now aware of his identity as Iron Man, Tony Stark must contend with both his declining health and a vengeful mad man with ties to his father's legacy.\",\n",
       "  u'title': u'Iron Man 2'},\n",
       " {'id': u'6',\n",
       "  u'summary': u\"Political involvement in the Avengers' activities causes a rift between Captain America and Iron Man.\",\n",
       "  u'title': u'Captain America: Civil War'},\n",
       " {'id': u'12',\n",
       "  u'summary': u\"When Tony Stark's world is torn apart by a formidable terrorist called the Mandarin, he starts an odyssey of rebuilding and retribution.\",\n",
       "  u'title': u'Iron Man 3'},\n",
       " {'id': u'18',\n",
       "  u'summary': u'After being held captive in an Afghan cave, billionaire engineer Tony Stark creates a unique weaponized suit of armor to fight evil.',\n",
       "  u'title': u'Iron Man'},\n",
       " {'id': u'2',\n",
       "  u'summary': u'Peter Parker balances his life as an ordinary high school student in Queens with his superhero alter-ego Spider-Man, and finds himself on the trail of a new menace prowling the skies of New York City.',\n",
       "  u'title': u'Spider-Man: Homecoming'},\n",
       " {'id': u'7',\n",
       "  u'summary': u'Armed with a super-suit with the astonishing ability to shrink in scale but increase in strength, cat burglar Scott Lang must embrace his inner hero and help his mentor, Dr. Hank Pym, plan and pull off a heist that will save the world.',\n",
       "  u'title': u'Ant-Man'}]"
      ]
     },
     "execution_count": 20,
     "metadata": {},
     "output_type": "execute_result"
    }
   ],
   "source": [
    "response = es.search(index=INDEX_NAME, doc_type=TYPE_NAME, body=search_query, _source_include=['title', 'summary'])\n",
    "pretty_print_es_response(response)"
   ]
  },
  {
   "cell_type": "code",
   "execution_count": 21,
   "metadata": {},
   "outputs": [],
   "source": [
    "# notice how the ranking changes of doc with id `6` and id `12` when a boost factor is given to `summary` field"
   ]
  },
  {
   "cell_type": "code",
   "execution_count": 22,
   "metadata": {},
   "outputs": [],
   "source": [
    "# search for captan amrica\n",
    "search_query = '''{\n",
    "  \"query\": {\n",
    "    \"match\": {\n",
    "      \"title\": {\n",
    "        \"query\": \"captan amrica\",\n",
    "        \"fuzziness\": 2\n",
    "      }\n",
    "    }\n",
    "  }\n",
    "}'''"
   ]
  },
  {
   "cell_type": "code",
   "execution_count": 23,
   "metadata": {},
   "outputs": [
    {
     "data": {
      "text/plain": [
       "[{'id': u'10',\n",
       "  u'summary': u'As Steve Rogers struggles to embrace his role in the modern world, he teams up with a fellow Avenger and S.H.I.E.L.D agent, Black Widow, to battle a new threat from history: an assassin known as the Winter Soldier.',\n",
       "  u'title': u'Captain America: The Winter Soldier'},\n",
       " {'id': u'6',\n",
       "  u'summary': u\"Political involvement in the Avengers' activities causes a rift between Captain America and Iron Man.\",\n",
       "  u'title': u'Captain America: Civil War'},\n",
       " {'id': u'14',\n",
       "  u'summary': u\"Steve Rogers, a rejected military soldier transforms into Captain America after taking a dose of a 'Super-Soldier serum'. But being Captain America comes at a price as he attempts to take down a war monger and a terrorist organization.\",\n",
       "  u'title': u'Captain America: The First Avenger'}]"
      ]
     },
     "execution_count": 23,
     "metadata": {},
     "output_type": "execute_result"
    }
   ],
   "source": [
    "response = es.search(index=INDEX_NAME, doc_type=TYPE_NAME, body=search_query, _source_include=['title', 'summary'])\n",
    "pretty_print_es_response(response)"
   ]
  },
  {
   "cell_type": "code",
   "execution_count": 24,
   "metadata": {},
   "outputs": [],
   "source": [
    "# notice how fuzzy value of 2 takes care of captan(captain) and amrica(america)"
   ]
  },
  {
   "cell_type": "code",
   "execution_count": 25,
   "metadata": {},
   "outputs": [],
   "source": [
    "# search for iron man as a phrase\n",
    "search_query = '''{\n",
    "  \"query\": {\n",
    "    \"match_phrase\": {\n",
    "      \"title\": \"iron man\"\n",
    "    }\n",
    "  }\n",
    "}'''"
   ]
  },
  {
   "cell_type": "code",
   "execution_count": 26,
   "metadata": {},
   "outputs": [
    {
     "data": {
      "text/plain": [
       "[{'id': u'12',\n",
       "  u'summary': u\"When Tony Stark's world is torn apart by a formidable terrorist called the Mandarin, he starts an odyssey of rebuilding and retribution.\",\n",
       "  u'title': u'Iron Man 3'},\n",
       " {'id': u'18',\n",
       "  u'summary': u'After being held captive in an Afghan cave, billionaire engineer Tony Stark creates a unique weaponized suit of armor to fight evil.',\n",
       "  u'title': u'Iron Man'},\n",
       " {'id': u'16',\n",
       "  u'summary': u\"With the world now aware of his identity as Iron Man, Tony Stark must contend with both his declining health and a vengeful mad man with ties to his father's legacy.\",\n",
       "  u'title': u'Iron Man 2'}]"
      ]
     },
     "execution_count": 26,
     "metadata": {},
     "output_type": "execute_result"
    }
   ],
   "source": [
    "response = es.search(index=INDEX_NAME, doc_type=TYPE_NAME, body=search_query, _source_include=['title', 'summary'])\n",
    "pretty_print_es_response(response)"
   ]
  },
  {
   "cell_type": "code",
   "execution_count": 27,
   "metadata": {},
   "outputs": [],
   "source": [
    "# notice how only three movies appear, in comparison to 5 when iron man was searched as a match query"
   ]
  },
  {
   "cell_type": "code",
   "execution_count": 28,
   "metadata": {},
   "outputs": [],
   "source": [
    "# search for movies of a particular year\n",
    "search_query = '''{\n",
    "  \"query\": {\n",
    "    \"bool\": {\n",
    "      \"filter\": {\n",
    "        \"term\": {\n",
    "          \"year\": 2018\n",
    "        }\n",
    "      }\n",
    "    }\n",
    "  }\n",
    "}'''"
   ]
  },
  {
   "cell_type": "code",
   "execution_count": 29,
   "metadata": {},
   "outputs": [
    {
     "data": {
      "text/plain": [
       "[{'id': u'0',\n",
       "  u'summary': u\"T'Challa, the King of Wakanda, rises to the throne in the isolated, technologically advanced African nation, but his claim is challenged by a vengeful outsider who was a childhood victim of T'Challa's father's mistake.\",\n",
       "  u'title': u'Black Panther',\n",
       "  u'year': u'2018'},\n",
       " {'id': u'1',\n",
       "  u'summary': u'The Avengers and their allies must be willing to sacrifice all in an attempt to defeat the powerful Thanos before his blitz of devastation and ruin puts an end to the universe.',\n",
       "  u'title': u'Avengers: Infinity War',\n",
       "  u'year': u'2018'}]"
      ]
     },
     "execution_count": 29,
     "metadata": {},
     "output_type": "execute_result"
    }
   ],
   "source": [
    "response = es.search(index=INDEX_NAME, doc_type=TYPE_NAME, body=search_query, _source_include=['title', 'summary', 'year'])\n",
    "pretty_print_es_response(response)"
   ]
  },
  {
   "cell_type": "code",
   "execution_count": 30,
   "metadata": {},
   "outputs": [],
   "source": [
    "# lets search for movies within a particular time period\n",
    "search_query = '''{\n",
    "  \"query\": {\n",
    "    \"bool\": {\n",
    "      \"filter\": {\n",
    "        \"range\": {\n",
    "          \"year\": {\n",
    "            \"gte\": 2015,\n",
    "            \"lte\": 2016\n",
    "          }\n",
    "        }\n",
    "      }\n",
    "    }\n",
    "  }\n",
    "}'''"
   ]
  },
  {
   "cell_type": "code",
   "execution_count": 33,
   "metadata": {},
   "outputs": [
    {
     "data": {
      "text/plain": [
       "[{'id': u'5',\n",
       "  u'summary': u'While on a journey of physical and spiritual healing, a brilliant neurosurgeon is drawn into the world of the mystic arts.',\n",
       "  u'title': u'Doctor Strange',\n",
       "  u'year': u'2016'},\n",
       " {'id': u'8',\n",
       "  u'summary': u\"When Tony Stark and Bruce Banner try to jump-start a dormant peacekeeping program called Ultron, things go horribly wrong and it's up to Earth's mightiest heroes to stop the villainous Ultron from enacting his terrible plan.\",\n",
       "  u'title': u'Avengers: Age of Ultron',\n",
       "  u'year': u'2015'},\n",
       " {'id': u'6',\n",
       "  u'summary': u\"Political involvement in the Avengers' activities causes a rift between Captain America and Iron Man.\",\n",
       "  u'title': u'Captain America: Civil War',\n",
       "  u'year': u'2016'},\n",
       " {'id': u'7',\n",
       "  u'summary': u'Armed with a super-suit with the astonishing ability to shrink in scale but increase in strength, cat burglar Scott Lang must embrace his inner hero and help his mentor, Dr. Hank Pym, plan and pull off a heist that will save the world.',\n",
       "  u'title': u'Ant-Man',\n",
       "  u'year': u'2015'}]"
      ]
     },
     "execution_count": 33,
     "metadata": {},
     "output_type": "execute_result"
    }
   ],
   "source": [
    "response = es.search(index=INDEX_NAME, doc_type=TYPE_NAME, body=search_query, _source_include=['title', 'summary', 'year'])\n",
    "pretty_print_es_response(response)"
   ]
  },
  {
   "cell_type": "code",
   "execution_count": 34,
   "metadata": {},
   "outputs": [],
   "source": [
    "# lets try function score query\n",
    "# this query gives includes in the duration of the movie as a factor while computing score\n",
    "search_query = '''{\n",
    "  \"query\": {\n",
    "    \"function_score\": {\n",
    "      \"query\": {\n",
    "        \"match\": {\n",
    "          \"title\": \"iron man\"\n",
    "        }\n",
    "      },\n",
    "      \"script_score\": {\n",
    "        \"script\": {\n",
    "          \"source\": \"_score * Math.log(1 + doc['duration'].value) \"\n",
    "        }\n",
    "      }\n",
    "    }\n",
    "  }\n",
    "}'''"
   ]
  },
  {
   "cell_type": "code",
   "execution_count": 35,
   "metadata": {},
   "outputs": [
    {
     "data": {
      "text/plain": [
       "[{'id': u'12',\n",
       "  'score': 14.505959,\n",
       "  u'summary': u\"When Tony Stark's world is torn apart by a formidable terrorist called the Mandarin, he starts an odyssey of rebuilding and retribution.\",\n",
       "  u'title': u'Iron Man 3',\n",
       "  u'year': u'2013'},\n",
       " {'id': u'18',\n",
       "  'score': 7.566229,\n",
       "  u'summary': u'After being held captive in an Afghan cave, billionaire engineer Tony Stark creates a unique weaponized suit of armor to fight evil.',\n",
       "  u'title': u'Iron Man',\n",
       "  u'year': u'2008'},\n",
       " {'id': u'16',\n",
       "  'score': 6.425105,\n",
       "  u'summary': u\"With the world now aware of his identity as Iron Man, Tony Stark must contend with both his declining health and a vengeful mad man with ties to his father's legacy.\",\n",
       "  u'title': u'Iron Man 2',\n",
       "  u'year': u'2010'},\n",
       " {'id': u'2',\n",
       "  'score': 6.2628784,\n",
       "  u'summary': u'Peter Parker balances his life as an ordinary high school student in Queens with his superhero alter-ego Spider-Man, and finds himself on the trail of a new menace prowling the skies of New York City.',\n",
       "  u'title': u'Spider-Man: Homecoming',\n",
       "  u'year': u'2017'},\n",
       " {'id': u'7',\n",
       "  'score': 2.8394415,\n",
       "  u'summary': u'Armed with a super-suit with the astonishing ability to shrink in scale but increase in strength, cat burglar Scott Lang must embrace his inner hero and help his mentor, Dr. Hank Pym, plan and pull off a heist that will save the world.',\n",
       "  u'title': u'Ant-Man',\n",
       "  u'year': u'2015'}]"
      ]
     },
     "execution_count": 35,
     "metadata": {},
     "output_type": "execute_result"
    }
   ],
   "source": [
    "response = es.search(index=INDEX_NAME, doc_type=TYPE_NAME, body=search_query, _source_include=['title', 'summary', 'year'])\n",
    "pretty_print_es_response(response, return_score=True)"
   ]
  },
  {
   "cell_type": "code",
   "execution_count": 36,
   "metadata": {},
   "outputs": [],
   "source": [
    "# lets run a normal match query for `iron man` and see how the score was changed\n",
    "search_query = '''{\n",
    "  \"query\": {\n",
    "    \"match\": {\n",
    "      \"title\": \"iron man\"\n",
    "    }\n",
    "  }\n",
    "}'''"
   ]
  },
  {
   "cell_type": "code",
   "execution_count": 37,
   "metadata": {},
   "outputs": [
    {
     "data": {
      "text/plain": [
       "[{'id': u'12',\n",
       "  'score': 2.9754608,\n",
       "  u'summary': u\"When Tony Stark's world is torn apart by a formidable terrorist called the Mandarin, he starts an odyssey of rebuilding and retribution.\",\n",
       "  u'title': u'Iron Man 3',\n",
       "  u'year': u'2013'},\n",
       " {'id': u'18',\n",
       "  'score': 1.5619192,\n",
       "  u'summary': u'After being held captive in an Afghan cave, billionaire engineer Tony Stark creates a unique weaponized suit of armor to fight evil.',\n",
       "  u'title': u'Iron Man',\n",
       "  u'year': u'2008'},\n",
       " {'id': u'16',\n",
       "  'score': 1.3307141,\n",
       "  u'summary': u\"With the world now aware of his identity as Iron Man, Tony Stark must contend with both his declining health and a vengeful mad man with ties to his father's legacy.\",\n",
       "  u'title': u'Iron Man 2',\n",
       "  u'year': u'2010'},\n",
       " {'id': u'2',\n",
       "  'score': 1.2787021,\n",
       "  u'summary': u'Peter Parker balances his life as an ordinary high school student in Queens with his superhero alter-ego Spider-Man, and finds himself on the trail of a new menace prowling the skies of New York City.',\n",
       "  u'title': u'Spider-Man: Homecoming',\n",
       "  u'year': u'2017'},\n",
       " {'id': u'7',\n",
       "  'score': 0.59518534,\n",
       "  u'summary': u'Armed with a super-suit with the astonishing ability to shrink in scale but increase in strength, cat burglar Scott Lang must embrace his inner hero and help his mentor, Dr. Hank Pym, plan and pull off a heist that will save the world.',\n",
       "  u'title': u'Ant-Man',\n",
       "  u'year': u'2015'}]"
      ]
     },
     "execution_count": 37,
     "metadata": {},
     "output_type": "execute_result"
    }
   ],
   "source": [
    "match_query_response = es.search(index=INDEX_NAME, doc_type=TYPE_NAME, body=search_query, _source_include=['title', 'summary', 'year'])\n",
    "pretty_print_es_response(match_query_response, return_score=True)"
   ]
  },
  {
   "cell_type": "code",
   "execution_count": 38,
   "metadata": {},
   "outputs": [],
   "source": [
    "# iron man 3(doc id 12) gets a score of 14 in function score query and score of 2.9 in match query"
   ]
  },
  {
   "cell_type": "code",
   "execution_count": null,
   "metadata": {},
   "outputs": [],
   "source": []
  }
 ],
 "metadata": {
  "kernelspec": {
   "display_name": "Python 2",
   "language": "python",
   "name": "python2"
  },
  "language_info": {
   "codemirror_mode": {
    "name": "ipython",
    "version": 2
   },
   "file_extension": ".py",
   "mimetype": "text/x-python",
   "name": "python",
   "nbconvert_exporter": "python",
   "pygments_lexer": "ipython2",
   "version": "2.7.15"
  }
 },
 "nbformat": 4,
 "nbformat_minor": 2
}
